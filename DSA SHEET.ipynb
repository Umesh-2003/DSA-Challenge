{
 "cells": [
  {
   "cell_type": "markdown",
   "id": "74987183",
   "metadata": {},
   "source": [
    "## STRINGS \n",
    "\n",
    "### 1. Valid Paranthesis : \n",
    "\n",
    "1. Given a string s containing just the characters '(', ')', '{', '}', '[' and ']', determine if the input string is valid.\n",
    "\n",
    "2. An input string is valid if:\n",
    "\n",
    "3. Open brackets must be closed by the same type of brackets.\n",
    "4. Open brackets must be closed in the correct order.\n",
    "5. Every close bracket has a corresponding open bracket of the same type.\n"
   ]
  },
  {
   "cell_type": "code",
   "execution_count": 3,
   "id": "0114e5f1",
   "metadata": {},
   "outputs": [
    {
     "name": "stdout",
     "output_type": "stream",
     "text": [
      "Enter input : {}()[]\n"
     ]
    },
    {
     "data": {
      "text/plain": [
       "True"
      ]
     },
     "execution_count": 3,
     "metadata": {},
     "output_type": "execute_result"
    }
   ],
   "source": [
    "from collections import deque\n",
    "class Solution:\n",
    "    def isValid(self, s: str) -> bool:\n",
    "        stack = deque()\n",
    "        characters = { \")\":\"(\" , \"]\":\"[\", \"}\":\"{\"}\n",
    "        \n",
    "        for c in s:\n",
    "            if c in characters:\n",
    "                if stack and stack[-1] == characters[c]:\n",
    "                    stack.pop()\n",
    "                else:\n",
    "                    return False\n",
    "            else:\n",
    "                stack.append(c)\n",
    "        return True if not stack else False\n",
    "\n",
    "obj = Solution()\n",
    "s = input(\"Enter input : \")\n",
    "obj.isValid(s)"
   ]
  },
  {
   "cell_type": "markdown",
   "id": "917e1f86",
   "metadata": {},
   "source": [
    "###  2 . Write an efficient program to print all the duplicates and their counts in the input string "
   ]
  },
  {
   "cell_type": "code",
   "execution_count": 4,
   "id": "c2311f2b",
   "metadata": {},
   "outputs": [
    {
     "name": "stdout",
     "output_type": "stream",
     "text": [
      "a, count = 3\n",
      "o, count = 3\n",
      "f, count = 3\n"
     ]
    }
   ],
   "source": [
    "def printDups(Str):\n",
    " \n",
    "    count = {}\n",
    "    for i in Str:\n",
    "        if(i in count):\n",
    "            count[i] += 1\n",
    "        else:\n",
    "            count[i] = 1\n",
    "        \n",
    "  \n",
    "    for key,val in count.items(): \n",
    "        if (val > 1):  \n",
    "            print(str(key) + \", count = \"+str(val))\n",
    "            \n",
    "Str = \"aaaooofff\"\n",
    "printDups(Str)"
   ]
  },
  {
   "cell_type": "markdown",
   "id": "d2b42c02",
   "metadata": {},
   "source": [
    "### 3. Find the Index of the First Occurrence in a String\n",
    "1. Given two strings needle and haystack, \n",
    "2. return the index of the first occurrence of needle in haystack, or -1 if needle is not part of haystack."
   ]
  },
  {
   "cell_type": "code",
   "execution_count": 5,
   "id": "8f5f0da5",
   "metadata": {},
   "outputs": [
    {
     "data": {
      "text/plain": [
       "0"
      ]
     },
     "execution_count": 5,
     "metadata": {},
     "output_type": "execute_result"
    }
   ],
   "source": [
    "class Solution:\n",
    "    def strStr(self, haystack: str, needle: str) -> int:\n",
    "        if needle == \"\":\n",
    "            return 0\n",
    "\n",
    "        for i in range(len(haystack)+1-len(needle)):\n",
    "            if haystack[i:i+len(needle)] == needle:\n",
    "                return i\n",
    "        return -1\n",
    "s = Solution()\n",
    "haystack = \"geeksforgeeks\"\n",
    "needle = \"geek\"\n",
    "\n",
    "s.strStr(haystack,needle)"
   ]
  },
  {
   "cell_type": "markdown",
   "id": "397b2e69",
   "metadata": {},
   "source": [
    "### 4. Write a function to find the longest common prefix string amongst an array of strings.\n",
    "#### If there is no common prefix, return an empty string \"\"."
   ]
  },
  {
   "cell_type": "code",
   "execution_count": 5,
   "id": "706b3f95",
   "metadata": {},
   "outputs": [
    {
     "name": "stdout",
     "output_type": "stream",
     "text": [
      "fl\n"
     ]
    }
   ],
   "source": [
    "def longestCommonPrefix(strs):\n",
    "        sol = \"\"\n",
    "        for i in range(len(strs[0])):\n",
    "            for s in strs:\n",
    "                if i == len(s) or s[i] != strs[0][i]:\n",
    "                    return sol\n",
    "            sol += strs[0][i]\n",
    "        return sol\n",
    "\n",
    "strs = [\"flower\",\"flow\",\"flight\"]\n",
    "sol = longestCommonPrefix(strs)\n",
    "print(sol)"
   ]
  },
  {
   "cell_type": "markdown",
   "id": "9bc382a0",
   "metadata": {},
   "source": [
    "### 5. Valid Palindrome 2 \n",
    "##### Given a string s, return true if the s can be palindrome after deleting at most one character from it.\n",
    "\n",
    "1. Example 1:\n",
    "\n",
    "Input: s = \"aba\"\n",
    "Output: true\n",
    "\n",
    "Example 2:\n",
    "\n",
    "Input: s = \"abca\"\n",
    "Output: true\n",
    "Explanation: You could delete the character 'c'."
   ]
  },
  {
   "cell_type": "code",
   "execution_count": 7,
   "id": "2abfa546",
   "metadata": {},
   "outputs": [
    {
     "name": "stdout",
     "output_type": "stream",
     "text": [
      "True\n"
     ]
    }
   ],
   "source": [
    "class Solution:\n",
    "    def validPalindrome(self, s: str) -> bool:\n",
    "        left , right = 0 ,  len(s)-1 \n",
    "        while left<right :\n",
    "            if s[left] != s[right]:\n",
    "                skipL,skipR = s[left+1:right+1],s[left:right]\n",
    "                return (skipL == skipL[::-1] or skipR == skipR[::-1])\n",
    "            left , right = left + 1, right -1\n",
    "        return True\n",
    "s = Solution()\n",
    "string = \"aba\"\n",
    "print(s.validPalindrome(string))"
   ]
  },
  {
   "cell_type": "code",
   "execution_count": null,
   "id": "dd2f991b",
   "metadata": {},
   "outputs": [],
   "source": []
  }
 ],
 "metadata": {
  "kernelspec": {
   "display_name": "Python 3 (ipykernel)",
   "language": "python",
   "name": "python3"
  },
  "language_info": {
   "codemirror_mode": {
    "name": "ipython",
    "version": 3
   },
   "file_extension": ".py",
   "mimetype": "text/x-python",
   "name": "python",
   "nbconvert_exporter": "python",
   "pygments_lexer": "ipython3",
   "version": "3.7.0"
  }
 },
 "nbformat": 4,
 "nbformat_minor": 5
}
